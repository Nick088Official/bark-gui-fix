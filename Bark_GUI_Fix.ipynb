{
  "nbformat": 4,
  "nbformat_minor": 0,
  "metadata": {
    "colab": {
      "provenance": [],
      "gpuType": "T4",
      "authorship_tag": "ABX9TyP3CwZsclXHsyD094bnI+0F",
      "include_colab_link": true
    },
    "kernelspec": {
      "name": "python3",
      "display_name": "Python 3"
    },
    "language_info": {
      "name": "python"
    },
    "accelerator": "GPU"
  },
  "cells": [
    {
      "cell_type": "markdown",
      "metadata": {
        "id": "view-in-github",
        "colab_type": "text"
      },
      "source": [
        "<a href=\"https://colab.research.google.com/github/Nick088Official/bark-gui-fix-google-colab/blob/main/Bark_GUI_Fix.ipynb\" target=\"_parent\"><img src=\"https://colab.research.google.com/assets/colab-badge.svg\" alt=\"Open In Colab\"/></a>"
      ]
    },
    {
      "cell_type": "markdown",
      "source": [
        "# Bark TTS GUI (Gradio UI, Interface)\n",
        "\n",
        "Fixed by [Nick088](https://linktr.ee/Nick088)"
      ],
      "metadata": {
        "id": "mTwsHrxohHVY"
      }
    },
    {
      "cell_type": "code",
      "execution_count": null,
      "metadata": {
        "cellView": "form",
        "id": "lo_UWasNF7nY"
      },
      "outputs": [],
      "source": [
        "#@title Install Bark GUI Fix\n",
        "\n",
        "!git clone https://github.com/Nick088Official/bark-gui-fix-google-colab\n",
        "%cd bark-gui-fix-google-colab\n",
        "!pip install -r requirements.txt\n",
        "\n",
        "Install_Torch_w_Cuda_Optional = True #@param {type:\"boolean\"}\n",
        "\n",
        "if Install_Torch_w_Cuda_Optional:\n",
        "  !pip install Torch with CUDA pip install torch torchvision torchaudio --index-url https://download.pytorch.org/whl/cu118 --force-reinstall"
      ]
    },
    {
      "cell_type": "code",
      "source": [
        "#@title Run Bark GUI\n",
        "\n",
        "#@markdown Check out Optional Arguments at the [Wiki](https://github.com/C0untFloyd/bark-gui/wiki)\n",
        "\n",
        "Optional_Arguments = \"-autolaunch\" #@param {type:\"string\"}\n",
        "\n",
        "!python webui.py {Optional_Arguments}\n"
      ],
      "metadata": {
        "cellView": "form",
        "id": "sWUAQzyjHRVA"
      },
      "execution_count": null,
      "outputs": []
    }
  ]
}